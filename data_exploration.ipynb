{
 "cells": [
  {
   "cell_type": "markdown",
   "id": "1812d7fb-5a10-4d41-a815-491d81525c50",
   "metadata": {},
   "source": [
    "# Data exploration"
   ]
  },
  {
   "cell_type": "code",
   "execution_count": 1,
   "id": "1787509b-0fe8-40de-873e-cc5a74402b2e",
   "metadata": {},
   "outputs": [],
   "source": [
    "import pandas as pd\n",
    "import numpy as np\n",
    "import matplotlib.pyplot as plt\n",
    "import seaborn as sns\n",
    "sns.set_theme()"
   ]
  },
  {
   "cell_type": "markdown",
   "id": "f59a3154-7367-4e59-b3cf-bf8dfdb403f5",
   "metadata": {},
   "source": [
    "## Loading the scrapped datasets"
   ]
  },
  {
   "cell_type": "code",
   "execution_count": 2,
   "id": "1ed36809-5ac8-4c4d-83a3-bdedb70deb9b",
   "metadata": {},
   "outputs": [],
   "source": [
    "DATA_DIR = \"data/lyrics/\""
   ]
  },
  {
   "cell_type": "code",
   "execution_count": 10,
   "id": "e391a3fd-366e-4efc-8706-96c37cd70430",
   "metadata": {},
   "outputs": [
    {
     "name": "stdout",
     "output_type": "stream",
     "text": [
      "<class 'pandas.core.frame.DataFrame'>\n",
      "Int64Index: 4515 entries, 0 to 4514\n",
      "Data columns (total 5 columns):\n",
      " #   Column        Non-Null Count  Dtype \n",
      "---  ------        --------------  ----- \n",
      " 0   artist        4515 non-null   object\n",
      " 1   title         4515 non-null   object\n",
      " 2   lyrics        3503 non-null   object\n",
      " 3   lyrics_state  4515 non-null   int64 \n",
      " 4   year          4515 non-null   int64 \n",
      "dtypes: int64(2), object(3)\n",
      "memory usage: 211.6+ KB\n"
     ]
    }
   ],
   "source": [
    "df = pd.read_json(DATA_DIR + \"fr_70_84.json\")\n",
    "df['lyrics_state'] = df['lyrics_state'].apply(lambda state: 0 if state == \"missing\" else 1)\n",
    "df.info()"
   ]
  },
  {
   "cell_type": "code",
   "execution_count": 54,
   "id": "b31f7697-a7f6-4ee0-ac22-b60b8173802f",
   "metadata": {},
   "outputs": [
    {
     "data": {
      "text/html": [
       "<div>\n",
       "<style scoped>\n",
       "    .dataframe tbody tr th:only-of-type {\n",
       "        vertical-align: middle;\n",
       "    }\n",
       "\n",
       "    .dataframe tbody tr th {\n",
       "        vertical-align: top;\n",
       "    }\n",
       "\n",
       "    .dataframe thead th {\n",
       "        text-align: right;\n",
       "    }\n",
       "</style>\n",
       "<table border=\"1\" class=\"dataframe\">\n",
       "  <thead>\n",
       "    <tr style=\"text-align: right;\">\n",
       "      <th></th>\n",
       "      <th>artist</th>\n",
       "      <th>title</th>\n",
       "      <th>lyrics</th>\n",
       "      <th>lyrics_state</th>\n",
       "      <th>year</th>\n",
       "    </tr>\n",
       "  </thead>\n",
       "  <tbody>\n",
       "    <tr>\n",
       "      <th>0</th>\n",
       "      <td>adamo</td>\n",
       "      <td>gagner du temps / et après</td>\n",
       "      <td>Histoire comique des États et Empires de la Lu...</td>\n",
       "      <td>1</td>\n",
       "      <td>1970</td>\n",
       "    </tr>\n",
       "    <tr>\n",
       "      <th>1</th>\n",
       "      <td>adamo</td>\n",
       "      <td>les belles dames</td>\n",
       "      <td>Zone LyricsÀ la fin tu es las de ce monde anci...</td>\n",
       "      <td>1</td>\n",
       "      <td>1970</td>\n",
       "    </tr>\n",
       "    <tr>\n",
       "      <th>2</th>\n",
       "      <td>adamo</td>\n",
       "      <td>va mon bateau</td>\n",
       "      <td>Qu’on m’appelle Adamé LyricsVa falloir démêler...</td>\n",
       "      <td>1</td>\n",
       "      <td>1970</td>\n",
       "    </tr>\n",
       "    <tr>\n",
       "      <th>3</th>\n",
       "      <td>adamo</td>\n",
       "      <td>sois heureuse rose</td>\n",
       "      <td>Histoire comique des États et Empires de la Lu...</td>\n",
       "      <td>1</td>\n",
       "      <td>1970</td>\n",
       "    </tr>\n",
       "    <tr>\n",
       "      <th>4</th>\n",
       "      <td>alain barrière</td>\n",
       "      <td>je l'attendais</td>\n",
       "      <td>None</td>\n",
       "      <td>0</td>\n",
       "      <td>1970</td>\n",
       "    </tr>\n",
       "  </tbody>\n",
       "</table>\n",
       "</div>"
      ],
      "text/plain": [
       "           artist                       title  \\\n",
       "0           adamo  gagner du temps / et après   \n",
       "1           adamo            les belles dames   \n",
       "2           adamo               va mon bateau   \n",
       "3           adamo          sois heureuse rose   \n",
       "4  alain barrière              je l'attendais   \n",
       "\n",
       "                                              lyrics  lyrics_state  year  \n",
       "0  Histoire comique des États et Empires de la Lu...             1  1970  \n",
       "1  Zone LyricsÀ la fin tu es las de ce monde anci...             1  1970  \n",
       "2  Qu’on m’appelle Adamé LyricsVa falloir démêler...             1  1970  \n",
       "3  Histoire comique des États et Empires de la Lu...             1  1970  \n",
       "4                                               None             0  1970  "
      ]
     },
     "execution_count": 54,
     "metadata": {},
     "output_type": "execute_result"
    }
   ],
   "source": [
    "df.head()"
   ]
  },
  {
   "cell_type": "markdown",
   "id": "9efa9902-6f29-45aa-a6a8-4067b46ff6c9",
   "metadata": {},
   "source": [
    "## Singles per year"
   ]
  },
  {
   "cell_type": "code",
   "execution_count": 81,
   "id": "81d482c8-516e-47a7-b4ed-dcf171ae62b4",
   "metadata": {},
   "outputs": [
    {
     "data": {
      "text/plain": [
       "Text(0, 0.5, 'Number of artists')"
      ]
     },
     "execution_count": 81,
     "metadata": {},
     "output_type": "execute_result"
    },
    {
     "data": {
      "image/png": "[encoded data removed]",
      "text/plain": [
       "<Figure size 864x360 with 2 Axes>"
      ]
     },
     "metadata": {},
     "output_type": "display_data"
    }
   ],
   "source": [
    "yearly_df = df.groupby('year')\n",
    "plt.figure(figsize=(12, 5))\n",
    "\n",
    "# Plots the number of titles per year\n",
    "ax = plt.subplot(121)\n",
    "yearly_titles = yearly_df.count()['title']\n",
    "yearly_titles.plot.bar()\n",
    "ylim = ax.get_ylim()\n",
    "plt.ylabel('Number of singles')\n",
    "\n",
    "# Plots the number of unique artists per year\n",
    "ax = plt.subplot(122)\n",
    "yearly_df.artist.nunique().plot.bar()\n",
    "# Sets the same ylim as for the first plot\n",
    "ax.set_ylim(ylim)\n",
    "plt.ylabel('Number of artists')"
   ]
  },
  {
   "cell_type": "markdown",
   "id": "df910a3f-9dce-4d00-a9c9-bbf203f53a7a",
   "metadata": {},
   "source": [
    "## Missing data"
   ]
  },
  {
   "cell_type": "code",
   "execution_count": 83,
   "id": "a61e5488-c92b-4801-abaa-9d0fc371ea71",
   "metadata": {},
   "outputs": [
    {
     "data": {
      "text/html": [
       "<div>\n",
       "<style scoped>\n",
       "    .dataframe tbody tr th:only-of-type {\n",
       "        vertical-align: middle;\n",
       "    }\n",
       "\n",
       "    .dataframe tbody tr th {\n",
       "        vertical-align: top;\n",
       "    }\n",
       "\n",
       "    .dataframe thead th {\n",
       "        text-align: right;\n",
       "    }\n",
       "</style>\n",
       "<table border=\"1\" class=\"dataframe\">\n",
       "  <thead>\n",
       "    <tr style=\"text-align: right;\">\n",
       "      <th></th>\n",
       "      <th>titles_count</th>\n",
       "      <th>complete</th>\n",
       "      <th>missing</th>\n",
       "      <th>missing_proportion</th>\n",
       "    </tr>\n",
       "    <tr>\n",
       "      <th>year</th>\n",
       "      <th></th>\n",
       "      <th></th>\n",
       "      <th></th>\n",
       "      <th></th>\n",
       "    </tr>\n",
       "  </thead>\n",
       "  <tbody>\n",
       "    <tr>\n",
       "      <th>1970</th>\n",
       "      <td>175</td>\n",
       "      <td>133</td>\n",
       "      <td>42</td>\n",
       "      <td>0.240000</td>\n",
       "    </tr>\n",
       "    <tr>\n",
       "      <th>1971</th>\n",
       "      <td>188</td>\n",
       "      <td>137</td>\n",
       "      <td>51</td>\n",
       "      <td>0.271277</td>\n",
       "    </tr>\n",
       "    <tr>\n",
       "      <th>1972</th>\n",
       "      <td>218</td>\n",
       "      <td>161</td>\n",
       "      <td>57</td>\n",
       "      <td>0.261468</td>\n",
       "    </tr>\n",
       "    <tr>\n",
       "      <th>1973</th>\n",
       "      <td>277</td>\n",
       "      <td>215</td>\n",
       "      <td>62</td>\n",
       "      <td>0.223827</td>\n",
       "    </tr>\n",
       "    <tr>\n",
       "      <th>1974</th>\n",
       "      <td>276</td>\n",
       "      <td>203</td>\n",
       "      <td>73</td>\n",
       "      <td>0.264493</td>\n",
       "    </tr>\n",
       "  </tbody>\n",
       "</table>\n",
       "</div>"
      ],
      "text/plain": [
       "      titles_count  complete  missing  missing_proportion\n",
       "year                                                     \n",
       "1970           175       133       42            0.240000\n",
       "1971           188       137       51            0.271277\n",
       "1972           218       161       57            0.261468\n",
       "1973           277       215       62            0.223827\n",
       "1974           276       203       73            0.264493"
      ]
     },
     "execution_count": 83,
     "metadata": {},
     "output_type": "execute_result"
    }
   ],
   "source": [
    "yearly_df = df.groupby('year')\n",
    "yearly_titles = yearly_df.count()['title']\n",
    "\n",
    "yearly_complete_lyrics = yearly_df.sum()['lyrics_state']\n",
    "yearly_missing_proportion = 1 - (yearly_complete_lyrics / yearly_titles)\n",
    "\n",
    "yearly_df = pd.DataFrame({'titles_count': yearly_titles, 'complete': yearly_complete_lyrics, 'missing': yearly_titles - yearly_complete_lyrics,\n",
    "                          'missing_proportion': yearly_missing_proportion})\n",
    "yearly_df.head()"
   ]
  },
  {
   "cell_type": "code",
   "execution_count": 96,
   "id": "97067341-ecdb-4685-88f7-82bf4bba5649",
   "metadata": {},
   "outputs": [
    {
     "data": {
      "text/plain": [
       "Text(0, 0.5, 'Proportion of missing lyrics')"
      ]
     },
     "execution_count": 96,
     "metadata": {},
     "output_type": "execute_result"
    },
    {
     "data": {
      "image/png": "[encoded data removed]",
      "text/plain": [
       "<Figure size 864x360 with 2 Axes>"
      ]
     },
     "metadata": {},
     "output_type": "display_data"
    }
   ],
   "source": [
    "plt.figure(figsize=(12, 5))\n",
    "ax = plt.subplot(121)\n",
    "yearly_df[['complete', 'missing']].plot.bar(stacked=True, ax=ax)\n",
    "plt.ylabel('Number of singles')\n",
    "\n",
    "plt.subplot(122)\n",
    "yearly_df['missing_proportion'].plot(style='-x')\n",
    "plt.ylabel(\"Proportion of missing lyrics\")"
   ]
  },
  {
   "cell_type": "code",
   "execution_count": 11,
   "id": "b3a4c72c-33d1-4e42-947a-e1bae03ce3f1",
   "metadata": {},
   "outputs": [
    {
     "data": {
      "text/html": [
       "<div>\n",
       "<style scoped>\n",
       "    .dataframe tbody tr th:only-of-type {\n",
       "        vertical-align: middle;\n",
       "    }\n",
       "\n",
       "    .dataframe tbody tr th {\n",
       "        vertical-align: top;\n",
       "    }\n",
       "\n",
       "    .dataframe thead th {\n",
       "        text-align: right;\n",
       "    }\n",
       "</style>\n",
       "<table border=\"1\" class=\"dataframe\">\n",
       "  <thead>\n",
       "    <tr style=\"text-align: right;\">\n",
       "      <th></th>\n",
       "      <th>index</th>\n",
       "      <th>year</th>\n",
       "      <th>artist</th>\n",
       "      <th>title</th>\n",
       "      <th>lyrics</th>\n",
       "      <th>country</th>\n",
       "    </tr>\n",
       "  </thead>\n",
       "  <tbody>\n",
       "    <tr>\n",
       "      <th>0</th>\n",
       "      <td>0</td>\n",
       "      <td>1970</td>\n",
       "      <td>adamo</td>\n",
       "      <td>gagner du temps / et après</td>\n",
       "      <td>Histoire comique des États et Empires de la Lu...</td>\n",
       "      <td>da</td>\n",
       "    </tr>\n",
       "    <tr>\n",
       "      <th>1</th>\n",
       "      <td>1</td>\n",
       "      <td>1970</td>\n",
       "      <td>adamo</td>\n",
       "      <td>les belles dames</td>\n",
       "      <td>Zone LyricsÀ la fin tu es las de ce monde anci...</td>\n",
       "      <td>da</td>\n",
       "    </tr>\n",
       "    <tr>\n",
       "      <th>2</th>\n",
       "      <td>2</td>\n",
       "      <td>1970</td>\n",
       "      <td>adamo</td>\n",
       "      <td>va mon bateau</td>\n",
       "      <td>Qu’on m’appelle Adamé LyricsVa falloir démêler...</td>\n",
       "      <td>da</td>\n",
       "    </tr>\n",
       "    <tr>\n",
       "      <th>3</th>\n",
       "      <td>3</td>\n",
       "      <td>1970</td>\n",
       "      <td>adamo</td>\n",
       "      <td>sois heureuse rose</td>\n",
       "      <td>Histoire comique des États et Empires de la Lu...</td>\n",
       "      <td>da</td>\n",
       "    </tr>\n",
       "    <tr>\n",
       "      <th>4</th>\n",
       "      <td>4</td>\n",
       "      <td>1970</td>\n",
       "      <td>alain barrière</td>\n",
       "      <td>je l'attendais</td>\n",
       "      <td>None</td>\n",
       "      <td>da</td>\n",
       "    </tr>\n",
       "  </tbody>\n",
       "</table>\n",
       "</div>"
      ],
      "text/plain": [
       "   index  year          artist                       title  \\\n",
       "0      0  1970           adamo  gagner du temps / et après   \n",
       "1      1  1970           adamo            les belles dames   \n",
       "2      2  1970           adamo               va mon bateau   \n",
       "3      3  1970           adamo          sois heureuse rose   \n",
       "4      4  1970  alain barrière              je l'attendais   \n",
       "\n",
       "                                              lyrics country  \n",
       "0  Histoire comique des États et Empires de la Lu...      da  \n",
       "1  Zone LyricsÀ la fin tu es las de ce monde anci...      da  \n",
       "2  Qu’on m’appelle Adamé LyricsVa falloir démêler...      da  \n",
       "3  Histoire comique des États et Empires de la Lu...      da  \n",
       "4                                               None      da  "
      ]
     },
     "execution_count": 11,
     "metadata": {},
     "output_type": "execute_result"
    }
   ],
   "source": [
    "data = pd.read_json('data/lyrics/all_lyrics.json')\n",
    "data.head()"
   ]
  }
 ],
 "metadata": {
  "kernelspec": {
   "display_name": "Python [conda env:.conda-adaexam] *",
   "language": "python",
   "name": "conda-env-.conda-adaexam-py"
  },
  "language_info": {
   "codemirror_mode": {
    "name": "ipython",
    "version": 3
   },
   "file_extension": ".py",
   "mimetype": "text/x-python",
   "name": "python",
   "nbconvert_exporter": "python",
   "pygments_lexer": "ipython3",
   "version": "3.8.12"
  }
 },
 "nbformat": 4,
 "nbformat_minor": 5
}
